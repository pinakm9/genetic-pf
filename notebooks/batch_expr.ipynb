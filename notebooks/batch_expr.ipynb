{
 "cells": [
  {
   "cell_type": "code",
   "execution_count": 1,
   "id": "engaged-chinese",
   "metadata": {},
   "outputs": [],
   "source": [
    "# add models folder to Python's search path\n",
    "import sys\n",
    "from pathlib import Path\n",
    "from os.path import dirname, abspath\n",
    "script_dir = Path(abspath(''))\n",
    "module_dir = str(script_dir.parent)\n",
    "sys.path.insert(0, module_dir + '/modules')\n",
    "\n",
    "import fl_compare as fc\n",
    "import numpy as np\n",
    "data_folder = '../data/batch_0'"
   ]
  },
  {
   "cell_type": "code",
   "execution_count": 2,
   "id": "pacific-sister",
   "metadata": {},
   "outputs": [
    {
     "data": {
      "application/vnd.jupyter.widget-view+json": {
       "model_id": "165fa9a264f1400c9a4619ea167ee225",
       "version_major": 2,
       "version_minor": 0
      },
      "text/plain": [
       "interactive(children=(IntSlider(value=3, description='dimension', max=9, min=3), Output()), _dom_classes=('wid…"
      ]
     },
     "metadata": {},
     "output_type": "display_data"
    }
   ],
   "source": [
    "l2 = fc.L2Compare(data_folder, 'gpf', 'bpf', list(range(3, 10)))"
   ]
  },
  {
   "cell_type": "code",
   "execution_count": 3,
   "id": "viral-method",
   "metadata": {},
   "outputs": [
    {
     "data": {
      "application/vnd.jupyter.widget-view+json": {
       "model_id": "c9e74e2f64704f02a15082c127517339",
       "version_major": 2,
       "version_minor": 0
      },
      "text/plain": [
       "interactive(children=(IntSlider(value=3, description='dimension', max=39, min=3), Output()), _dom_classes=('wi…"
      ]
     },
     "metadata": {},
     "output_type": "display_data"
    }
   ],
   "source": [
    "gen = fc.GenVsDim(data_folder, 'gpf', list(range(3, 40)))"
   ]
  },
  {
   "cell_type": "code",
   "execution_count": 4,
   "id": "handled-passion",
   "metadata": {},
   "outputs": [
    {
     "data": {
      "application/vnd.jupyter.widget-view+json": {
       "model_id": "de64dbcd808142bd9e47c251e008a3c4",
       "version_major": 2,
       "version_minor": 0
      },
      "text/plain": [
       "Button(description='compute and plot', style=ButtonStyle())"
      ]
     },
     "metadata": {},
     "output_type": "display_data"
    },
    {
     "data": {
      "application/vnd.jupyter.widget-view+json": {
       "model_id": "2d95967e011648a0bc97fa6d44b09fbd",
       "version_major": 2,
       "version_minor": 0
      },
      "text/plain": [
       "IntSlider(value=1, description='degree', max=10, min=1)"
      ]
     },
     "metadata": {},
     "output_type": "display_data"
    }
   ],
   "source": [
    "agen = fc.AvgGenVsDim(data_folder, 'gpf', list(range(3, 24)))"
   ]
  },
  {
   "cell_type": "code",
   "execution_count": 7,
   "id": "biological-serbia",
   "metadata": {},
   "outputs": [
    {
     "data": {
      "application/vnd.jupyter.widget-view+json": {
       "model_id": "f377f4bd37b84070b8bb7e30051a73c6",
       "version_major": 2,
       "version_minor": 0
      },
      "text/plain": [
       "interactive(children=(IntSlider(value=3, description='dimension', max=23, min=3), IntSlider(value=0, descripti…"
      ]
     },
     "metadata": {},
     "output_type": "display_data"
    }
   ],
   "source": [
    "hist = fc.WeightHistogram(data_folder, 'gpf', list(range(3, 24)))"
   ]
  },
  {
   "cell_type": "code",
   "execution_count": null,
   "id": "simplified-exclusive",
   "metadata": {},
   "outputs": [],
   "source": []
  }
 ],
 "metadata": {
  "kernelspec": {
   "display_name": "Python 3",
   "language": "python",
   "name": "python3"
  },
  "language_info": {
   "codemirror_mode": {
    "name": "ipython",
    "version": 3
   },
   "file_extension": ".py",
   "mimetype": "text/x-python",
   "name": "python",
   "nbconvert_exporter": "python",
   "pygments_lexer": "ipython3",
   "version": "3.8.3"
  }
 },
 "nbformat": 4,
 "nbformat_minor": 5
}
